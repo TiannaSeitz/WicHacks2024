{
  "cells": [
    {
      "cell_type": "code",
      "execution_count": null,
      "metadata": {
        "id": "VMTdLNQXe9oE"
      },
      "outputs": [],
      "source": [
        "!pip3 install opencv-python\n",
        "!pip3 install torch torchvision torchaudio --index-url https://download.pytorch.org/whl/cu118\n",
        "!pip3 install matplotlib\n",
        "!pip3 install numpy\n",
        "!pip3 install pandas\n",
        "!pip3 install pillow"
      ]
    },
    {
      "cell_type": "code",
      "execution_count": null,
      "metadata": {
        "id": "bBiWH7ZefalV"
      },
      "outputs": [],
      "source": [
        "import matplotlib.pyplot as plt # for plotting\n",
        "import numpy as np # for transformation\n",
        "import csv\n",
        "import os\n",
        "import pandas as pd\n",
        "from PIL import Image\n",
        "import torch # PyTorch package\n",
        "import torchvision # load datasets\n",
        "import torchvision.transforms as transforms # transform data\n",
        "from torch.utils.data import Dataset, DataLoader\n",
        "import torch.nn as nn # basic building block for neural neteorks\n",
        "import torch.nn.functional as F # import convolution functions like Relu\n",
        "import torch.optim as optim # optimzer"
      ]
    },
    {
      "cell_type": "code",
      "execution_count": null,
      "metadata": {
        "id": "LuxwRe3Su8wK"
      },
      "outputs": [],
      "source": [
        "class CustomDataset(Dataset):\n",
        "    def __init__(self, csv_file, transform=None):\n",
        "        \"\"\"\n",
        "        Args:\n",
        "            csv_file (string): Path to the csv file with annotations.\n",
        "            root_dir (string): Directory with all the images.\n",
        "            transform (callable, optional): Optional transform to be applied\n",
        "                on a sample.\n",
        "        \"\"\"\n",
        "        self.labels_frame = pd.read_csv(csv_file)\n",
        "        self.transform = transform\n",
        "\n",
        "    def __len__(self):\n",
        "        return len(self.labels_frame)\n",
        "\n",
        "    def __getitem__(self, idx):\n",
        "        img_name = os.path.join(self.labels_frame.iloc[idx, 0],\n",
        "                                self.labels_frame.iloc[idx, 1])\n",
        "        image = Image.open(img_name).convert('RGB')\n",
        "        label = self.labels_frame.iloc[idx, 2]\n",
        "\n",
        "        if self.transform:\n",
        "            image = self.transform(image)\n",
        "\n",
        "        return image, label\n",
        "\n",
        "# Path to your CSV file\n",
        "csv_file = \"your datapath here\"\n",
        "\n",
        "# Define your transformations\n",
        "transform = transforms.Compose([\n",
        "    transforms.ToTensor(),           # Convert images to PyTorch tensors\n",
        "    transforms.Normalize(mean=[0.5, 0.5, 0.5], std=[0.5, 0.5, 0.5])  # Normalize the images\n",
        "])\n",
        "# transform = transforms.Compose([\n",
        "#     transforms.ToTensor()])\n",
        "\n",
        "# Create a custom dataset instance\n",
        "custom_dataset = CustomDataset(csv_file=csv_file, transform=transform)\n",
        "# Create a data loader\n",
        "data_loader = torch.utils.data.DataLoader(custom_dataset, batch_size=4, shuffle=True)\n",
        "\n",
        "classes = ('capacitor', 'led', 'none')\n",
        "for images, label in data_loader:\n",
        "    print(label)\n",
        "    print(type(label))\n",
        "    break"
      ]
    },
    {
      "cell_type": "code",
      "execution_count": null,
      "metadata": {
        "id": "rQWtg4TlqJ7t"
      },
      "outputs": [],
      "source": [
        "# show imgs plz\n",
        "def show_imgs(img):\n",
        "    img = img / 2 + 0.5 # unormalize\n",
        "    img_np = img.numpy()\n",
        "    plt.imshow(np.transpose(img_np, (1,2,0)))\n",
        "    plt.show()"
      ]
    },
    {
      "cell_type": "code",
      "execution_count": null,
      "metadata": {
        "id": "rhrflnWyqMFH"
      },
      "outputs": [],
      "source": [
        "# show images for sanity\n",
        "# Define a counter to keep track of the image index\n",
        "image_index = 0\n",
        "\n",
        "# Iterate over data loader\n",
        "for images, labels in data_loader:\n",
        "    # Show every 16th image\n",
        "    for j in range(len(images)):\n",
        "        if image_index % 200 == 0:\n",
        "            plt.imshow(images[j].permute(1, 2, 0))  # Permute the dimensions to (height, width, channels) for displaying with imshow\n",
        "            plt.show()\n",
        "        image_index += 1\n",
        "\n",
        "    # Print the labels for the entire batch"
      ]
    },
    {
      "cell_type": "code",
      "execution_count": null,
      "metadata": {
        "id": "-i5QJ1aTrNGH"
      },
      "outputs": [],
      "source": [
        "class cnn(nn.Module):\n",
        "    def __init__(self):\n",
        "        super(cnn, self).__init__()\n",
        "        self.conv1 = nn.Conv2d(3, 32, kernel_size = 3, stride = 1) \n",
        "        # self.conv11 = nn.Conv2d(32, 32, kernel_size = 3, stride = 1)\n",
        "        self.pool1 = nn.MaxPool2d(2,2)\n",
        "        self.conv2 = nn.Conv2d(32, 64, kernel_size = 3, stride = 1)\n",
        "        # self.conv22 = nn.Conv2d(64, 64, kernel_size = 3, stride = 1)\n",
        "        self.pool2 = nn.MaxPool2d(2,2)\n",
        "        self.fc1 = nn.Linear(8198656, 64)\n",
        "        self.relu1 = nn.ReLU()\n",
        "        # self.fc2 = nn.Linear(120, 84)\n",
        "        # self.relu2 = nn.ReLU()\n",
        "        self.fc3 = nn.Linear(64, 3)\n",
        "\n",
        "    def forward(self, img):\n",
        "        img = self.conv1(img)\n",
        "        # img = self.conv11(img)\n",
        "        img = self.pool1(img)\n",
        "        img = self.conv2(img)\n",
        "        # img = self.conv22(img)\n",
        "        img = self.pool2(img)\n",
        "        img = torch.flatten(img, 1)\n",
        "        img = self.fc1(img)\n",
        "        img = self.relu1(img)\n",
        "        # img = self.fc2(img)\n",
        "        # img = self.relu2(img)\n",
        "        img = self.fc3(img)\n",
        "        return img\n",
        "\n",
        "cnn = cnn()"
      ]
    },
    {
      "cell_type": "code",
      "execution_count": null,
      "metadata": {
        "id": "AJl7Hy53wogH"
      },
      "outputs": [],
      "source": [
        "loss_fxn = nn.CrossEntropyLoss()\n",
        "optimizer = optim.SGD(cnn.parameters(), lr = 0.001, weight_decay = 0.005, momentum = 0.9)"
      ]
    },
    {
      "cell_type": "code",
      "execution_count": null,
      "metadata": {
        "id": "pmQ2oN04w-np"
      },
      "outputs": [],
      "source": [
        "device = torch.device('cuda:0' if torch.cuda.is_available() else 'cpu')\n",
        "print(device)\n",
        "cnn.to(device)"
      ]
    },
    {
      "cell_type": "code",
      "execution_count": null,
      "metadata": {
        "id": "7MMa5iRGVK46"
      },
      "outputs": [],
      "source": [
        "for epoch in range(51):\n",
        "    model_name = str(epoch) + \".pth\"\n",
        "    model_save = os.path.join('your save path here', model_name)\n",
        "    loss_log = 0.0\n",
        "    for i, data in enumerate(data_loader,0):\n",
        "        images, labels = data\n",
        "        images = images.to(device)\n",
        "        labels = labels.to(device)\n",
        "        cnn = cnn.to(device)\n",
        "        optimizer.zero_grad()\n",
        "        torch.cuda.empty_cache()\n",
        "        outputs = cnn(images)\n",
        "        loss = loss_fxn(outputs, labels)\n",
        "        loss.backward()\n",
        "        optimizer.step()\n",
        "\n",
        "        # print statistics\n",
        "        loss_log += loss.item()\n",
        "    if epoch in [4, 30, 40, 50]:\n",
        "        torch.save(cnn.state_dict(), model_save)\n",
        "    if epoch in [4, 15, 20, 25, 30, 35, 40, 45, 50]:\n",
        "        print(loss_log)\n",
        "\n",
        "print('Finished Training')\n"
      ]
    },
    {
      "cell_type": "code",
      "execution_count": null,
      "metadata": {
        "id": "Y2z8B-8Nx-tE"
      },
      "outputs": [],
      "source": [
        "# save model\n",
        "path = 'your model path here'\n",
        "torch.save(cnn.state_dict(), path)"
      ]
    }
  ],
  "metadata": {
    "colab": {
      "provenance": []
    },
    "kernelspec": {
      "display_name": "Python 3",
      "name": "python3"
    },
    "language_info": {
      "name": "python"
    }
  },
  "nbformat": 4,
  "nbformat_minor": 0
}
